{
 "cells": [
  {
   "cell_type": "markdown",
   "id": "259bb9c4",
   "metadata": {},
   "source": [
    "# **Scenario 4: Splitting and Joining Strings**\n",
    "\n",
    "## **Problem:** \n",
    "\n",
    "You have a sentence and you need to count the number of words. Then, you need to combine the words back into a single string with a different separator, like a hyphen.\n",
    "\n",
    "### **Given Input**\n",
    "\n",
    "sentence = \"The quick brown fox jumps over the lazy dog\"\n",
    "\n",
    "### **Expected Output**\n",
    "\n",
    "The-quick-brown-fox-jumps-over-the-lazy-dog"
   ]
  },
  {
   "cell_type": "code",
   "execution_count": null,
   "id": "9dabb068",
   "metadata": {},
   "outputs": [
    {
     "name": "stdout",
     "output_type": "stream",
     "text": [
      "The-quick-brown-fox-jumps-over-the-lazy-dog\n"
     ]
    }
   ],
   "source": [
    "sentence : str = \"The quick brown fox jumps over the lazy dog\"\n",
    "\n",
    "splitted_string : list = sentence.split()\n",
    "\n",
    "hyphened_string : str = \"-\".join(splitted_string)\n",
    "\n",
    "print(hyphened_string)"
   ]
  }
 ],
 "metadata": {
  "kernelspec": {
   "display_name": "Python 3",
   "language": "python",
   "name": "python3"
  },
  "language_info": {
   "codemirror_mode": {
    "name": "ipython",
    "version": 3
   },
   "file_extension": ".py",
   "mimetype": "text/x-python",
   "name": "python",
   "nbconvert_exporter": "python",
   "pygments_lexer": "ipython3",
   "version": "3.13.1"
  }
 },
 "nbformat": 4,
 "nbformat_minor": 5
}
