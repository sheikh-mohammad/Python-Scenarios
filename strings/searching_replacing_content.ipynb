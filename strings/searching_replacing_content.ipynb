{
 "cells": [
  {
   "cell_type": "markdown",
   "id": "374ce716",
   "metadata": {},
   "source": [
    "## **Scenario 3: Searching and Replacing Content**\n",
    "\n",
    "**Problem:** You have a block of text and need to replace all instances of a specific word. Replacing the word \"Python\" with \"Java\" in a sentence.\n",
    "\n",
    "### **Given Input**\n",
    "text = \"Python is a great language. I love learning Python.\"\n",
    "\n",
    "### **Expected Output**\n",
    "'Java is a great language. I love learning Java.'"
   ]
  },
  {
   "cell_type": "code",
   "execution_count": 1,
   "id": "bed70f55",
   "metadata": {},
   "outputs": [
    {
     "name": "stdout",
     "output_type": "stream",
     "text": [
      "Java is a great language. I love learning Java.\n"
     ]
    }
   ],
   "source": [
    "text : str = \"Python is a great language. I love learning Python.\"\n",
    "\n",
    "new_text : str = text.replace(\"Python\", \"Java\")\n",
    "\n",
    "print(new_text)"
   ]
  }
 ],
 "metadata": {
  "kernelspec": {
   "display_name": "Python 3",
   "language": "python",
   "name": "python3"
  },
  "language_info": {
   "codemirror_mode": {
    "name": "ipython",
    "version": 3
   },
   "file_extension": ".py",
   "mimetype": "text/x-python",
   "name": "python",
   "nbconvert_exporter": "python",
   "pygments_lexer": "ipython3",
   "version": "3.13.1"
  }
 },
 "nbformat": 4,
 "nbformat_minor": 5
}
