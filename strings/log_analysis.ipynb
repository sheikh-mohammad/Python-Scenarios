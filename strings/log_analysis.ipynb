{
 "cells": [
  {
   "cell_type": "markdown",
   "id": "b2862937",
   "metadata": {},
   "source": [
    "# **Scenario 5: Log File Analysis**\n",
    "\n",
    "## **Problem:**\n",
    "\n",
    "You are analyzing a log file. You need to find out how many log entries contain the word \"ERROR\" (case-insensitive) and extract the full lines where this error occurs.\n",
    "\n",
    "### **Given Input**\n",
    "\n",
    "log_data = \"\"\"\n",
    "INFO: User logged in.  \n",
    "ERROR: Database connection failed.  \n",
    "INFO: Data processed successfully.   \n",
    "WARNING: Low disk space.  \n",
    "error: A file could not be found.  \n",
    "\"\"\"\n",
    "\n",
    "### **Expected Output**\n",
    "\n",
    "ERROR: Database connection failed.   \n",
    "error: A file could not be found."
   ]
  },
  {
   "cell_type": "code",
   "execution_count": 9,
   "id": "bc341a47",
   "metadata": {},
   "outputs": [
    {
     "name": "stdout",
     "output_type": "stream",
     "text": [
      "Total Error Found in Lines: 2\n",
      "Line with Errors:\n",
      "ERROR: Database connection failed.\n",
      "error: A file could not be found.\n"
     ]
    }
   ],
   "source": [
    "log_data : str = \"\"\"INFO: User logged in.\n",
    "ERROR: Database connection failed.\n",
    "INFO: Data processed successfully.\n",
    "WARNING: Low disk space.\n",
    "error: A file could not be found.\n",
    "\"\"\"\n",
    "\n",
    "log_lines : list = log_data.splitlines()\n",
    "\n",
    "error_lines : list[str] = []\n",
    "\n",
    "for line in log_lines:\n",
    "    if \"ERROR\" in line or \"error\" in line:\n",
    "        error_lines.append(line)\n",
    "\n",
    "print(f\"Total Error Found in Lines: {len(error_lines)}\")\n",
    "print(f\"Line with Errors:\")\n",
    "\n",
    "for error_line in error_lines:\n",
    "    print(error_line)"
   ]
  }
 ],
 "metadata": {
  "kernelspec": {
   "display_name": "Python 3",
   "language": "python",
   "name": "python3"
  },
  "language_info": {
   "codemirror_mode": {
    "name": "ipython",
    "version": 3
   },
   "file_extension": ".py",
   "mimetype": "text/x-python",
   "name": "python",
   "nbconvert_exporter": "python",
   "pygments_lexer": "ipython3",
   "version": "3.13.1"
  }
 },
 "nbformat": 4,
 "nbformat_minor": 5
}
