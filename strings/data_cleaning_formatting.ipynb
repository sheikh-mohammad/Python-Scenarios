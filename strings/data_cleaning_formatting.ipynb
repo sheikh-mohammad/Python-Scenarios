{
 "cells": [
  {
   "cell_type": "markdown",
   "id": "e41354eb",
   "metadata": {},
   "source": [
    "## **Scenario 1: Data Cleaning and Formatting**\n",
    "\n",
    "**Problem:** You have a list of names that are inconsistently capitalized and have extra whitespace. You need to clean them up so they are in a standard format: first letter capitalized, and no leading or trailing spaces.\n",
    "\n",
    "### **Given Input:**\n",
    "names = [\"  johN doe \", \"jane sMith  \", \"aLiCE johNson\"]\n",
    "\n",
    "### **Expected output:**\n",
    "['John Doe', 'Jane Smith', 'Alice Johnson']"
   ]
  },
  {
   "cell_type": "code",
   "execution_count": null,
   "id": "a61e2ef9",
   "metadata": {},
   "outputs": [
    {
     "name": "stdout",
     "output_type": "stream",
     "text": [
      "['John Doe', 'Jane Smith', 'Alice Johnson']\n"
     ]
    }
   ],
   "source": [
    "names : list[str] = [\"  johN doe \", \"jane sMith  \", \"aLiCE johNson\"]\n",
    "\n",
    "cleaned_names : list[str] = []\n",
    "\n",
    "for name in names:\n",
    "    name = name.strip().title()\n",
    "    cleaned_names.append(name)\n",
    "\n",
    "print(cleaned_names)"
   ]
  }
 ],
 "metadata": {
  "kernelspec": {
   "display_name": "Python 3",
   "language": "python",
   "name": "python3"
  },
  "language_info": {
   "codemirror_mode": {
    "name": "ipython",
    "version": 3
   },
   "file_extension": ".py",
   "mimetype": "text/x-python",
   "name": "python",
   "nbconvert_exporter": "python",
   "pygments_lexer": "ipython3",
   "version": "3.13.1"
  }
 },
 "nbformat": 4,
 "nbformat_minor": 5
}
