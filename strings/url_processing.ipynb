{
 "cells": [
  {
   "cell_type": "markdown",
   "id": "30c5ced7",
   "metadata": {},
   "source": [
    "# **Scenario 4: URL Processing**\n",
    "\n",
    "## **Problem:** \n",
    "\n",
    "You have a list of website URLs, and you need to check which ones are secure (i.e., start with 'https://'). You also need to remove the protocol part from the URLs to get just the domain name.\n",
    "\n",
    "### **Given Input**\n",
    "\n",
    "urls = [\"https://www.google.com\", \"http://www.wikipedia.org\", \"https://github.com\"]\n",
    "\n",
    "### **Expected Output**\n",
    "\n",
    "Secure URLs: ['https://www.google.com', 'https://github.com']\n",
    "\n",
    "Domain names: ['www.google.com', 'www.wikipedia.org', 'github.com']"
   ]
  },
  {
   "cell_type": "code",
   "execution_count": null,
   "id": "83a6ef02",
   "metadata": {},
   "outputs": [
    {
     "name": "stdout",
     "output_type": "stream",
     "text": [
      "Secure URLs: ['https://www.google.com', 'https://github.com']\n",
      "Domain names: ['www.google.com', 'www.wikipedia.org', 'github.com']\n"
     ]
    }
   ],
   "source": [
    "urls : list [str] = [\"https://www.google.com\", \"http://www.wikipedia.org\", \"https://github.com\"]\n",
    "\n",
    "secure_urls : list[str] = []\n",
    "\n",
    "domain_names : list[str] = []\n",
    "\n",
    "for i in range(len(urls)):\n",
    "    if urls[i].startswith(\"https\"):\n",
    "        secure_urls.append(urls[i])\n",
    "        domain_names.append(urls[i].replace(\"https://\", \"\"))\n",
    "    else:\n",
    "        pass\n",
    "        domain_names.append(urls[i].replace(\"http://\", \"\"))\n",
    "\n",
    "print(f\"Secure URLs: {secure_urls}\")\n",
    "print(f\"Domain names: {domain_names}\")"
   ]
  }
 ],
 "metadata": {
  "kernelspec": {
   "display_name": "Python 3",
   "language": "python",
   "name": "python3"
  },
  "language_info": {
   "codemirror_mode": {
    "name": "ipython",
    "version": 3
   },
   "file_extension": ".py",
   "mimetype": "text/x-python",
   "name": "python",
   "nbconvert_exporter": "python",
   "pygments_lexer": "ipython3",
   "version": "3.13.1"
  }
 },
 "nbformat": 4,
 "nbformat_minor": 5
}
