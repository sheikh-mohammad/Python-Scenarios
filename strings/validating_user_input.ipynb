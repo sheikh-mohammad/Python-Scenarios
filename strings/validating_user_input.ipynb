{
 "cells": [
  {
   "cell_type": "markdown",
   "id": "03bc2aa8",
   "metadata": {},
   "source": [
    "## **Scenario 2: Validating User Input**\n",
    "\n",
    "**Problem:** You are building a program that asks for a user's age. You need to ensure the input is a valid positive integer and not a string with letters."
   ]
  },
  {
   "cell_type": "code",
   "execution_count": null,
   "id": "861b61ae",
   "metadata": {},
   "outputs": [
    {
     "name": "stdout",
     "output_type": "stream",
     "text": [
      "Thanks for providing your age!, Your age is 22!\n"
     ]
    }
   ],
   "source": [
    "user_age : str = input(\"Enter\")\n",
    "\n",
    "if user_age.isdecimal():\n",
    "    age : int = int(user_age)\n",
    "    print(f\"Thanks for providing your age!, Your age is {age}!\")\n",
    "else:\n",
    "    print(\"Please enter your age as a number!\")"
   ]
  }
 ],
 "metadata": {
  "kernelspec": {
   "display_name": "Python 3",
   "language": "python",
   "name": "python3"
  },
  "language_info": {
   "codemirror_mode": {
    "name": "ipython",
    "version": 3
   },
   "file_extension": ".py",
   "mimetype": "text/x-python",
   "name": "python",
   "nbconvert_exporter": "python",
   "pygments_lexer": "ipython3",
   "version": "3.13.1"
  }
 },
 "nbformat": 4,
 "nbformat_minor": 5
}
