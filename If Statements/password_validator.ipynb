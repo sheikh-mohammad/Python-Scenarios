{
 "cells": [
  {
   "cell_type": "markdown",
   "id": "0f9e74a5",
   "metadata": {},
   "source": [
    "# **Scenerio 2: Password Validator**\n",
    "\n",
    "## **Problem:**\n",
    "\n",
    "Create a function that validates a user-provided password based on the following rules: it must be at least 8 characters long, contain at least one digit, and contain at least one uppercase letter. The function should print a message indicating whether the password is valid or not, and if not, which rules it failed.\n",
    "\n",
    "### **Input:**\n",
    "\n",
    "\"SecureP@ssw0rd\"\n",
    "\n",
    "### **Expected Output:**\n",
    "\n",
    "\"Password is valid.\"\n",
    "\n",
    "### **Input:**\n",
    "\n",
    "\"short\"\n",
    "\n",
    "### **Expected Output:**\n",
    "\n",
    "Password is not valid.\n",
    "- Must be at least 8 characters long.\n",
    "- Must contain at least one digit.\n",
    "- Must contain at least one uppercase letter."
   ]
  },
  {
   "cell_type": "code",
   "execution_count": 55,
   "id": "7cee8cb6",
   "metadata": {},
   "outputs": [
    {
     "name": "stdout",
     "output_type": "stream",
     "text": [
      "Password is valid\n"
     ]
    }
   ],
   "source": [
    "input_password : str = input(\"Enter Any Password to Check its validity: \")\n",
    "\n",
    "contain_digit : bool = False\n",
    "contain_upper_letter : bool = False\n",
    "\n",
    "for letter in input_password:\n",
    "    if letter.isupper():\n",
    "        contain_upper_letter = True\n",
    "    elif letter.isdigit():\n",
    "        contain_digit = True\n",
    "\n",
    "if contain_upper_letter and contain_digit and len(input_password) >= 8:\n",
    "    print(\"Password is valid\")\n",
    "else:\n",
    "    print(\"Password is not valid.\")\n",
    "    print(\"- Must be at least 8 characters long.\")\n",
    "    print(\"- Must contain at least one digit.\")\n",
    "    print(\"- Must contain at least one uppercase letter.\")"
   ]
  }
 ],
 "metadata": {
  "kernelspec": {
   "display_name": "Python 3",
   "language": "python",
   "name": "python3"
  },
  "language_info": {
   "codemirror_mode": {
    "name": "ipython",
    "version": 3
   },
   "file_extension": ".py",
   "mimetype": "text/x-python",
   "name": "python",
   "nbconvert_exporter": "python",
   "pygments_lexer": "ipython3",
   "version": "3.13.1"
  }
 },
 "nbformat": 4,
 "nbformat_minor": 5
}
