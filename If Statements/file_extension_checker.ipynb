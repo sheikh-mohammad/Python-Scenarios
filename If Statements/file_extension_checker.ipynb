{
 "cells": [
  {
   "cell_type": "markdown",
   "id": "4bf98b35",
   "metadata": {},
   "source": [
    "# **Scenerio 1: File Extension Checker**\n",
    "\n",
    "## **Problem:**\n",
    "\n",
    "You have a list of filenames. You need to write a script that iterates through the list and prints a message for each file, indicating whether it's an image file (.jpg, .jpeg, .png, .gif) or not.\n",
    "\n",
    "### **Input:**\n",
    "\n",
    "filenames = [\"document.pdf\", \"photo.jpg\", \"image.png\", \"data.csv\", \"logo.gif\"]\n",
    "\n",
    "### **Expected Output:**\n",
    "photo.jpg is an image file.    \n",
    "image.png is an image file.    \n",
    "logo.gif is an image file.   "
   ]
  },
  {
   "cell_type": "code",
   "execution_count": null,
   "id": "a572960e",
   "metadata": {},
   "outputs": [
    {
     "name": "stdout",
     "output_type": "stream",
     "text": [
      "photo.jpg is an image file\n",
      "image.png is an image file\n",
      "logo.gif is an image file\n"
     ]
    }
   ],
   "source": [
    "file_names : list[str] = [\"document.pdf\", \"photo.jpg\", \"image.png\", \"data.csv\", \"logo.gif\"]\n",
    "\n",
    "for file_name in file_names:\n",
    "    is_image = file_name.endswith(\".jpg\") or file_name.endswith(\".png\") or file_name.endswith(\".jpeg\") or file_name.endswith(\".gif\")\n",
    "    if is_image:\n",
    "        print(f\"{file_name} is an image file\")"
   ]
  }
 ],
 "metadata": {
  "kernelspec": {
   "display_name": "Python 3",
   "language": "python",
   "name": "python3"
  },
  "language_info": {
   "codemirror_mode": {
    "name": "ipython",
    "version": 3
   },
   "file_extension": ".py",
   "mimetype": "text/x-python",
   "name": "python",
   "nbconvert_exporter": "python",
   "pygments_lexer": "ipython3",
   "version": "3.13.1"
  }
 },
 "nbformat": 4,
 "nbformat_minor": 5
}
