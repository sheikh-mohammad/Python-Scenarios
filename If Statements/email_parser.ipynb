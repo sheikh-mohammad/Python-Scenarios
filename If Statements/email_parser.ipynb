{
 "cells": [
  {
   "cell_type": "markdown",
   "id": "41f6f55b",
   "metadata": {},
   "source": [
    "# **Scenerio 3: Email Parser**\n",
    "\n",
    "## **Problem:**\n",
    "\n",
    "You have a string containing an email address. You need to write a script that checks if the email is from the domain \"example.com\". If it is, print the username (the part of the email before the \"@\"). Otherwise, print a message stating that the email is from a different domain.\n",
    "\n",
    "### **Input:**\n",
    "\n",
    "\"user123@example.com\"\n",
    "\n",
    "### **Expected Output:**\n",
    "\n",
    "\"The user is user123\"\n",
    "\n",
    "### **Input:**\n",
    "\n",
    "\"another.user@otherdomain.net\"\n",
    "\n",
    "### **Expected Output:**\n",
    "\n",
    "\"The email is from a different domain.\""
   ]
  },
  {
   "cell_type": "code",
   "execution_count": 6,
   "id": "2c7d6545",
   "metadata": {},
   "outputs": [
    {
     "name": "stdout",
     "output_type": "stream",
     "text": [
      "The email is from a different domain.\n"
     ]
    }
   ],
   "source": [
    "email_input : str = input(\"Enter Your Email: \")\n",
    "\n",
    "if \"example.com\" in email_input:\n",
    "    print(f\"The user is {email_input[0:email_input.index(\"@\"):]}\")\n",
    "else:\n",
    "    print(\"The email is from a different domain.\")"
   ]
  }
 ],
 "metadata": {
  "kernelspec": {
   "display_name": "Python 3",
   "language": "python",
   "name": "python3"
  },
  "language_info": {
   "codemirror_mode": {
    "name": "ipython",
    "version": 3
   },
   "file_extension": ".py",
   "mimetype": "text/x-python",
   "name": "python",
   "nbconvert_exporter": "python",
   "pygments_lexer": "ipython3",
   "version": "3.13.1"
  }
 },
 "nbformat": 4,
 "nbformat_minor": 5
}
